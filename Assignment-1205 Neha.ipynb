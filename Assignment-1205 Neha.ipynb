{
 "metadata": {
  "language_info": {
   "codemirror_mode": {
    "name": "ipython",
    "version": 3
   },
   "file_extension": ".py",
   "mimetype": "text/x-python",
   "name": "python",
   "nbconvert_exporter": "python",
   "pygments_lexer": "ipython3",
   "version": "3.9.5"
  },
  "orig_nbformat": 2,
  "kernelspec": {
   "name": "python395jvsc74a57bd05112a5c20f37ebbbeac851a5cecd77067ffb8bb0b7ac37eff6c6a177fe073b87",
   "display_name": "Python 3.9.5 64-bit ('PythonSoftwareFoundation.Python.3.9_qbz5n2kfra8p0')"
  },
  "metadata": {
   "interpreter": {
    "hash": "5112a5c20f37ebbbeac851a5cecd77067ffb8bb0b7ac37eff6c6a177fe073b87"
   }
  }
 },
 "nbformat": 4,
 "nbformat_minor": 2,
 "cells": [
  {
   "cell_type": "code",
   "execution_count": 20,
   "metadata": {},
   "outputs": [
    {
     "output_type": "stream",
     "name": "stdout",
     "text": [
      "Number is Greater than 10\n"
     ]
    }
   ],
   "source": [
    "#Task 1: Write a program that asks the user for an integer number and checks if it is > 10. If it is, it will print “Number is Greater than 10”, else “Number is smaller than 10”.\n",
    "\n",
    "number = int(input(\"Enter a number\"))\n",
    "\n",
    "if number > 10:\n",
    "    print(\"Number is Greater than 10\")\n",
    "\n",
    "else:\n",
    "    print(\"Number is smaller than 10\")"
   ]
  },
  {
   "cell_type": "code",
   "execution_count": 11,
   "metadata": {},
   "outputs": [
    {
     "output_type": "stream",
     "name": "stdout",
     "text": [
      "Number is smaller than 10\nValue After Iteration  1 is 9\nValue After Iteration  2 is 10\n"
     ]
    }
   ],
   "source": [
    "#Task 2: Then write a loop program that ask the user for an integer number and check if it is < 10. If it is < 10 then it keeps adding 1 to the value.\n",
    "number = int(input(\"Enter a number\"))\n",
    "\n",
    "if number >= 10:\n",
    "    print(\"Number is Greater than or Equal To 10\")\n",
    "\n",
    "else:\n",
    "    print(\"Number is smaller than 10\")\n",
    "    i = 1\n",
    "    while number < 10:\n",
    "        number += 1\n",
    "        print(\"Value After Iteration\", i, \"is\", number  )\n",
    "        i += 1\n",
    "\n"
   ]
  },
  {
   "cell_type": "code",
   "execution_count": 14,
   "metadata": {},
   "outputs": [
    {
     "output_type": "stream",
     "name": "stdout",
     "text": [
      "Bike cost in Year 2022 will be 1800.0\nBike cost in Year 2023 will be 1620.0\nBike cost in Year 2024 will be 1458.0\nBike cost in Year 2025 will be 1312.2\nBike cost in Year 2026 will be 1180.98\nBike cost in Year 2027 will be 1062.882\nBike cost in Year 2028 will be 956.5938000000001\n"
     ]
    }
   ],
   "source": [
    "#As an extension to the motorbike task that costs £2000 and loses 10% of its value every year. Set up a function that performs the calculation by passing in parameters. Then using a loop, print the value of the bike every following year until it falls below £1000.\n",
    "\n",
    "def calcBikeCost(bikeCost, year):\n",
    "    while bikeCost >= 1000:\n",
    "        bikeCost = bikeCost - ( bikeCost * 10 / 100)\n",
    "        year = year + 1\n",
    "        print(\"Bike cost in Year\", year, \"will be\", bikeCost)\n",
    "\n",
    "calcBikeCost(2000, 2021)"
   ]
  },
  {
   "cell_type": "code",
   "execution_count": 17,
   "metadata": {},
   "outputs": [
    {
     "output_type": "stream",
     "name": "stdout",
     "text": [
      "Bike cost in Year 2022 will be 1800.0\nBike cost in Year 2023 will be 1620.0\nBike cost in Year 2024 will be 1458.0\nBike cost in Year 2025 will be 1312.2\nBike cost in Year 2026 will be 1180.98\nBike cost in Year 2027 will be 1062.882\nBike cost in Year 2028 will be 956.5938000000001\n"
     ]
    }
   ],
   "source": [
    "#As an extension to the motorbike task that costs £2000 and loses 10% of its value every year. Set up a function that performs the calculation by passing in parameters. Then using a loop, print the value of the bike every following year until it falls below £1000.\n",
    "\n",
    "def calcBikeCost(bikeCost):\n",
    "        bikeCost = bikeCost - ( bikeCost * 10 / 100)\n",
    "        return(bikeCost)\n",
    "        \n",
    "bikeCost = 2000\n",
    "year = 2021\n",
    "while bikeCost >= 1000:\n",
    "    bikeCost = calcBikeCost(bikeCost)\n",
    "    year = year + 1\n",
    "    print(\"Bike cost in Year\", year, \"will be\", bikeCost)"
   ]
  },
  {
   "cell_type": "code",
   "execution_count": 18,
   "metadata": {},
   "outputs": [
    {
     "output_type": "stream",
     "name": "stdout",
     "text": [
      "-----Calculator-----\n",
      "Enter \"a\" if you want to add\n",
      "Enter \"b\" if you want to subtract\n",
      "Enter \"c\" if you want to divide\n",
      "Enter \"d\" if you want to multiply\n",
      "Enter \"e\" if you want to exponent\n",
      "4 * 5 = 20\n"
     ]
    }
   ],
   "source": [
    "#Write a program which will ask for two numbers from a user. Then offer an option menu to the user giving them a choice of maths operators. Once the user has selected which operator they wish to use, perform the calculation by using a procedure and passing parameters.\n",
    "\n",
    "def performCalc(firstNum, secondNum, opValue):\n",
    "    if opValue == 'a':\n",
    "        value = firstNum + secondNum\n",
    "        print(firstNum, \"+\", secondNum, \"=\", value)\n",
    "    elif opValue == 'b':\n",
    "        value = firstNum - secondNum\n",
    "        print(firstNum, \"-\", secondNum, \"=\", value)\n",
    "    elif opValue == 'c':\n",
    "        value = firstNum / secondNum\n",
    "        print(firstNum, \"/\", secondNum, \"=\", value)\n",
    "    elif opValue == 'd':\n",
    "        value = firstNum * secondNum\n",
    "        print(firstNum, \"*\", secondNum, \"=\", value)\n",
    "    elif opValue == 'e':\n",
    "        value = firstNum ** secondNum\n",
    "        print(firstNum, \"**\", secondNum, \"=\", value)\n",
    "    else:\n",
    "        print(\"Wrong value entered\")\n",
    "\n",
    "\n",
    "print(\"-----Calculator-----\")\n",
    "firstNum = int(input(\"Please enter first number\"))\n",
    "secondNum = int(input(\"Please enter second number\"))\n",
    "value = ''\n",
    "print(\"Enter \\\"a\\\" if you want to add\" )\n",
    "print(\"Enter \\\"b\\\" if you want to subtract\" )\n",
    "print(\"Enter \\\"c\\\" if you want to divide\" )\n",
    "print(\"Enter \\\"d\\\" if you want to multiply\" )\n",
    "print(\"Enter \\\"e\\\" if you want to exponent\" )\n",
    "opValue = input(\"Please enter your choice of operation\")\n",
    "\n",
    "performCalc(firstNum, secondNum, opValue)"
   ]
  },
  {
   "cell_type": "code",
   "execution_count": 19,
   "metadata": {},
   "outputs": [
    {
     "output_type": "stream",
     "name": "stdout",
     "text": [
      "Fifth Color in Rainbow is Yellow\n"
     ]
    }
   ],
   "source": [
    "#TASK: Create DFD and then write corresponding code\n",
    "\n",
    "number = int(input(\"Please enter a number between 1 and 7\"))\n",
    "\n",
    "if number < 1 or number > 7:\n",
    "    print(\"Please enter correct number\")\n",
    "else:\n",
    "    if number == 1:\n",
    "        print(\"First Color in Rainbow is Violet\")\n",
    "    elif number == 2:\n",
    "        print(\"Second Color in Rainbow is Indigo\")\n",
    "    elif number == 3:\n",
    "        print(\"Third Color in Rainbow is Blue\")\n",
    "    elif number == 4:\n",
    "        print(\"Fourth Color in Rainbow is Green\")\n",
    "    elif number == 5:\n",
    "        print(\"Fifth Color in Rainbow is Yellow\")\n",
    "    elif number == 6:\n",
    "        print(\"Sixth Color in Rainbow is Orange\")\n",
    "    elif number == 7:\n",
    "        print(\"Seventh Color in Rainbow is Red\")\n"
   ]
  },
  {
   "cell_type": "code",
   "execution_count": null,
   "metadata": {},
   "outputs": [],
   "source": []
  }
 ]
}